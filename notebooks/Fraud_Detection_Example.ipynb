{
 "cells": [
  {
   "cell_type": "markdown",
   "metadata": {
    "id": "D__IZAeRGArs"
   },
   "source": [
    "**Install Featureform**\n"
   ]
  },
  {
   "cell_type": "code",
   "execution_count": 1,
   "metadata": {
    "id": "Skgi0UR2zhlv"
   },
   "outputs": [
    {
     "name": "stdout",
     "output_type": "stream",
     "text": [
      "Requirement already satisfied: featureform in /Users/sdreyer/Projects/embeddinghub/venv/lib/python3.8/site-packages (0.0.0)\r\n",
      "Requirement already satisfied: typing-extensions>=4.1.1 in /Users/sdreyer/Projects/embeddinghub/venv/lib/python3.8/site-packages (from featureform) (4.3.0)\r\n",
      "Requirement already satisfied: pandas==1.3.5 in /Users/sdreyer/Projects/embeddinghub/venv/lib/python3.8/site-packages (from featureform) (1.3.5)\r\n",
      "Requirement already satisfied: numpy==1.21.6 in /Users/sdreyer/Projects/embeddinghub/venv/lib/python3.8/site-packages (from featureform) (1.21.6)\r\n",
      "Requirement already satisfied: Flask-Cors==3.0.10 in /Users/sdreyer/Projects/embeddinghub/venv/lib/python3.8/site-packages (from featureform) (3.0.10)\r\n",
      "Requirement already satisfied: protobuf>=3.17.3 in /Users/sdreyer/Projects/embeddinghub/venv/lib/python3.8/site-packages (from featureform) (4.21.2)\r\n",
      "Requirement already satisfied: typeguard>=2.7.1 in /Users/sdreyer/Projects/embeddinghub/venv/lib/python3.8/site-packages (from featureform) (2.13.3)\r\n",
      "Requirement already satisfied: click>=7.1.2 in /Users/sdreyer/Projects/embeddinghub/venv/lib/python3.8/site-packages (from featureform) (8.1.3)\r\n",
      "Requirement already satisfied: dataclasses==0.6 in /Users/sdreyer/Projects/embeddinghub/venv/lib/python3.8/site-packages (from featureform) (0.6)\r\n",
      "Requirement already satisfied: flask==2.2.1 in /Users/sdreyer/Projects/embeddinghub/venv/lib/python3.8/site-packages (from featureform) (2.2.1)\r\n",
      "Requirement already satisfied: pandasql>=0.7.3 in /Users/sdreyer/Projects/embeddinghub/venv/lib/python3.8/site-packages (from featureform) (0.7.3)\r\n",
      "Requirement already satisfied: pyspark>=3.3.0 in /Users/sdreyer/Projects/embeddinghub/venv/lib/python3.8/site-packages (from featureform) (3.3.0)\r\n",
      "Requirement already satisfied: grpcio==1.47.0 in /Users/sdreyer/Projects/embeddinghub/venv/lib/python3.8/site-packages (from featureform) (1.47.0)\r\n",
      "Requirement already satisfied: importlib-metadata>=3.6.0 in /Users/sdreyer/Projects/embeddinghub/venv/lib/python3.8/site-packages (from flask==2.2.1->featureform) (4.12.0)\r\n",
      "Requirement already satisfied: Jinja2>=3.0 in /Users/sdreyer/Projects/embeddinghub/venv/lib/python3.8/site-packages (from flask==2.2.1->featureform) (3.1.2)\r\n",
      "Requirement already satisfied: Werkzeug>=2.2.0 in /Users/sdreyer/Projects/embeddinghub/venv/lib/python3.8/site-packages (from flask==2.2.1->featureform) (2.2.2)\r\n",
      "Requirement already satisfied: itsdangerous>=2.0 in /Users/sdreyer/Projects/embeddinghub/venv/lib/python3.8/site-packages (from flask==2.2.1->featureform) (2.1.2)\r\n",
      "Requirement already satisfied: Six in /Users/sdreyer/Projects/embeddinghub/venv/lib/python3.8/site-packages (from Flask-Cors==3.0.10->featureform) (1.16.0)\r\n",
      "Requirement already satisfied: pytz>=2017.3 in /Users/sdreyer/Projects/embeddinghub/venv/lib/python3.8/site-packages (from pandas==1.3.5->featureform) (2022.2.1)\r\n",
      "Requirement already satisfied: python-dateutil>=2.7.3 in /Users/sdreyer/Projects/embeddinghub/venv/lib/python3.8/site-packages (from pandas==1.3.5->featureform) (2.8.2)\r\n",
      "Requirement already satisfied: sqlalchemy in /Users/sdreyer/Projects/embeddinghub/venv/lib/python3.8/site-packages (from pandasql>=0.7.3->featureform) (1.4.40)\r\n",
      "Requirement already satisfied: py4j==0.10.9.5 in /Users/sdreyer/Projects/embeddinghub/venv/lib/python3.8/site-packages (from pyspark>=3.3.0->featureform) (0.10.9.5)\r\n",
      "Requirement already satisfied: zipp>=0.5 in /Users/sdreyer/Projects/embeddinghub/venv/lib/python3.8/site-packages (from importlib-metadata>=3.6.0->flask==2.2.1->featureform) (3.8.1)\r\n",
      "Requirement already satisfied: MarkupSafe>=2.0 in /Users/sdreyer/Projects/embeddinghub/venv/lib/python3.8/site-packages (from Jinja2>=3.0->flask==2.2.1->featureform) (2.1.1)\r\n"
     ]
    }
   ],
   "source": [
    "!pip3 install featureform\n",
    "import featureform as ff"
   ]
  },
  {
   "cell_type": "markdown",
   "metadata": {
    "id": "yzNIWNM7R95s"
   },
   "source": [
    "**Download and register transaction file**"
   ]
  },
  {
   "cell_type": "code",
   "execution_count": 2,
   "metadata": {
    "id": "Ag_6Jo4W0ojD"
   },
   "outputs": [
    {
     "data": {
      "text/plain": [
       "77027840"
      ]
     },
     "execution_count": 2,
     "metadata": {},
     "output_type": "execute_result"
    }
   ],
   "source": [
    "import requests\n",
    "url = \"https://featureform-demo-files.s3.amazonaws.com/transactions.csv\"\n",
    "r = requests.get(url)\n",
    "open(\"transactions.csv\" , 'wb').write(r.content)\n"
   ]
  },
  {
   "cell_type": "code",
   "execution_count": 3,
   "metadata": {
    "id": "SCWvs_W9dru5"
   },
   "outputs": [
    {
     "data": {
      "text/html": [
       "<div>\n",
       "<style scoped>\n",
       "    .dataframe tbody tr th:only-of-type {\n",
       "        vertical-align: middle;\n",
       "    }\n",
       "\n",
       "    .dataframe tbody tr th {\n",
       "        vertical-align: top;\n",
       "    }\n",
       "\n",
       "    .dataframe thead th {\n",
       "        text-align: right;\n",
       "    }\n",
       "</style>\n",
       "<table border=\"1\" class=\"dataframe\">\n",
       "  <thead>\n",
       "    <tr style=\"text-align: right;\">\n",
       "      <th></th>\n",
       "      <th>TransactionID</th>\n",
       "      <th>CustomerID</th>\n",
       "      <th>CustomerDOB</th>\n",
       "      <th>CustLocation</th>\n",
       "      <th>CustAccountBalance</th>\n",
       "      <th>TransactionAmount</th>\n",
       "      <th>Timestamp</th>\n",
       "      <th>IsFraud</th>\n",
       "    </tr>\n",
       "  </thead>\n",
       "  <tbody>\n",
       "    <tr>\n",
       "      <th>0</th>\n",
       "      <td>T1</td>\n",
       "      <td>C5841053</td>\n",
       "      <td>10/1/94</td>\n",
       "      <td>JAMSHEDPUR</td>\n",
       "      <td>17819.05</td>\n",
       "      <td>25.0</td>\n",
       "      <td>2022-04-09 11:33:09</td>\n",
       "      <td>False</td>\n",
       "    </tr>\n",
       "    <tr>\n",
       "      <th>1</th>\n",
       "      <td>T2</td>\n",
       "      <td>C2142763</td>\n",
       "      <td>4/4/57</td>\n",
       "      <td>JHAJJAR</td>\n",
       "      <td>2270.69</td>\n",
       "      <td>27999.0</td>\n",
       "      <td>2022-03-27 01:04:21</td>\n",
       "      <td>False</td>\n",
       "    </tr>\n",
       "    <tr>\n",
       "      <th>2</th>\n",
       "      <td>T3</td>\n",
       "      <td>C4417068</td>\n",
       "      <td>26/11/96</td>\n",
       "      <td>MUMBAI</td>\n",
       "      <td>17874.44</td>\n",
       "      <td>459.0</td>\n",
       "      <td>2022-04-07 00:48:14</td>\n",
       "      <td>False</td>\n",
       "    </tr>\n",
       "    <tr>\n",
       "      <th>3</th>\n",
       "      <td>T4</td>\n",
       "      <td>C5342380</td>\n",
       "      <td>14/9/73</td>\n",
       "      <td>MUMBAI</td>\n",
       "      <td>866503.21</td>\n",
       "      <td>2060.0</td>\n",
       "      <td>2022-04-14 07:56:59</td>\n",
       "      <td>True</td>\n",
       "    </tr>\n",
       "    <tr>\n",
       "      <th>4</th>\n",
       "      <td>T5</td>\n",
       "      <td>C9031234</td>\n",
       "      <td>24/3/88</td>\n",
       "      <td>NAVI MUMBAI</td>\n",
       "      <td>6714.43</td>\n",
       "      <td>1762.5</td>\n",
       "      <td>2022-04-13 07:39:19</td>\n",
       "      <td>False</td>\n",
       "    </tr>\n",
       "  </tbody>\n",
       "</table>\n",
       "</div>"
      ],
      "text/plain": [
       "  TransactionID CustomerID CustomerDOB CustLocation  CustAccountBalance  \\\n",
       "0            T1   C5841053     10/1/94   JAMSHEDPUR            17819.05   \n",
       "1            T2   C2142763      4/4/57      JHAJJAR             2270.69   \n",
       "2            T3   C4417068    26/11/96       MUMBAI            17874.44   \n",
       "3            T4   C5342380     14/9/73       MUMBAI           866503.21   \n",
       "4            T5   C9031234     24/3/88  NAVI MUMBAI             6714.43   \n",
       "\n",
       "   TransactionAmount            Timestamp  IsFraud  \n",
       "0               25.0  2022-04-09 11:33:09    False  \n",
       "1            27999.0  2022-03-27 01:04:21    False  \n",
       "2              459.0  2022-04-07 00:48:14    False  \n",
       "3             2060.0  2022-04-14 07:56:59     True  \n",
       "4             1762.5  2022-04-13 07:39:19    False  "
      ]
     },
     "execution_count": 3,
     "metadata": {},
     "output_type": "execute_result"
    }
   ],
   "source": [
    "from featureform import local\n",
    "\n",
    "transactions = local.register_file(\n",
    "    name=\"transactions\",\n",
    "    description=\"A dataset of fraudulent transactions\",\n",
    "    path=\"transactions.csv\"\n",
    ")\n",
    "df = transactions.pandas()\n",
    "df.head()"
   ]
  },
  {
   "cell_type": "markdown",
   "metadata": {
    "id": "y_9MPoD836vR"
   },
   "source": [
    "**Define and test a few transformations**"
   ]
  },
  {
   "cell_type": "code",
   "execution_count": 4,
   "metadata": {
    "id": "qut7Rb02fnMm"
   },
   "outputs": [
    {
     "data": {
      "text/plain": [
       "CustomerID\n",
       "C1010011    2553.0\n",
       "C1010012    1499.0\n",
       "C1010014     727.5\n",
       "C1010018      30.0\n",
       "C1010024    5000.0\n",
       "Name: TransactionAmount, dtype: float64"
      ]
     },
     "execution_count": 4,
     "metadata": {},
     "output_type": "execute_result"
    }
   ],
   "source": [
    "@local.df_transformation(inputs=[transactions])\n",
    "def average_user_transaction(transactions):\n",
    "    return transactions.groupby(\"CustomerID\")[\"TransactionAmount\"].mean()\n",
    "\n",
    "avg = average_user_transaction(df)\n",
    "avg.head()"
   ]
  },
  {
   "cell_type": "code",
   "execution_count": 5,
   "metadata": {
    "id": "NlVEeJAbevP0"
   },
   "outputs": [
    {
     "data": {
      "text/plain": [
       "<AxesSubplot:ylabel='Frequency'>"
      ]
     },
     "execution_count": 5,
     "metadata": {},
     "output_type": "execute_result"
    },
    {
     "data": {
      "image/png": "[encoded data removed]",
      "text/plain": [
       "<Figure size 640x480 with 1 Axes>"
      ]
     },
     "metadata": {},
     "output_type": "display_data"
    }
   ],
   "source": [
    "avg.plot(kind=\"hist\")"
   ]
  },
  {
   "cell_type": "code",
   "execution_count": 6,
   "metadata": {
    "id": "VrVIso_kfL4E"
   },
   "outputs": [
    {
     "data": {
      "text/plain": [
       "<AxesSubplot:ylabel='Frequency'>"
      ]
     },
     "execution_count": 6,
     "metadata": {},
     "output_type": "execute_result"
    },
    {
     "data": {
      "image/png": "[encoded data removed]",
      "text/plain": [
       "<Figure size 640x480 with 1 Axes>"
      ]
     },
     "metadata": {},
     "output_type": "display_data"
    }
   ],
   "source": [
    "@local.df_transformation(variant=\"clipped\",\n",
    "                         inputs=[average_user_transaction])\n",
    "def average_user_transaction(transactions):\n",
    "    max = transactions.mean() + 2 * transactions.std()\n",
    "    return transactions.clip(lower=0, upper=max)\n",
    "\n",
    "average_user_transaction(avg).plot(kind=\"hist\")"
   ]
  },
  {
   "cell_type": "markdown",
   "metadata": {
    "id": "d7hoRoiQpKWI"
   },
   "source": [
    "**Registering resources (Entity, feature, label)**"
   ]
  },
  {
   "cell_type": "code",
   "execution_count": 7,
   "metadata": {
    "id": "Zwc1nlXnybO_"
   },
   "outputs": [
    {
     "data": {
      "text/plain": [
       "<featureform.register.ResourceRegistrar at 0x284e68160>"
      ]
     },
     "execution_count": 7,
     "metadata": {},
     "output_type": "execute_result"
    }
   ],
   "source": [
    "user = ff.register_entity(\"user\")\n",
    "# Register a column from our transformation as a feature\n",
    "average_user_transaction.register_resources(\n",
    "    entity=user,\n",
    "    entity_column=\"CustomerID\",\n",
    "    inference_store=local,\n",
    "    features=[\n",
    "        {\"name\": \"avg_transactions\", \"column\": \"TransactionAmount\", \"type\": \"float32\"},\n",
    "    ],\n",
    ")\n",
    "\n",
    "# Register a label from our base Transactions table\n",
    "transactions.register_resources(\n",
    "    entity=user,\n",
    "    entity_column=\"CustomerID\",\n",
    "    labels=[\n",
    "        {\"name\": \"fraudulent\", \"column\": \"IsFraud\", \"type\": \"bool\"},\n",
    "    ],\n",
    ")"
   ]
  },
  {
   "cell_type": "markdown",
   "metadata": {
    "id": "A7NDURrD8jZx"
   },
   "source": [
    "**Registering training set**"
   ]
  },
  {
   "cell_type": "code",
   "execution_count": 8,
   "metadata": {
    "id": "Yo3_bveVygVV"
   },
   "outputs": [],
   "source": [
    "ff.register_training_set(\n",
    "    \"fraud_training\",\n",
    "    label=\"fraudulent\",\n",
    "    features=[\"avg_transactions\"],\n",
    ")\n"
   ]
  },
  {
   "cell_type": "markdown",
   "metadata": {
    "id": "f8e4xZ6Na9C-"
   },
   "source": [
    "**Apply our definitions**"
   ]
  },
  {
   "cell_type": "code",
   "execution_count": 9,
   "metadata": {
    "id": "cnDdAovca6WR"
   },
   "outputs": [
    {
     "name": "stdout",
     "output_type": "stream",
     "text": [
      "Creating provider local-mode\n",
      "Creating user default_user\n",
      "Creating source transactions\n",
      "Creating source average_user_transaction\n",
      "Creating source average_user_transaction\n",
      "Creating entity user\n",
      "Creating feature avg_transactions\n",
      "Creating label fraudulent\n",
      "Creating training-set fraud_training\n"
     ]
    }
   ],
   "source": [
    "client = ff.ResourceClient(local=True)\n",
    "client.apply()"
   ]
  },
  {
   "cell_type": "markdown",
   "metadata": {
    "id": "qbptM7O4yTYA"
   },
   "source": [
    "**Train a Model**"
   ]
  },
  {
   "cell_type": "code",
   "execution_count": 13,
   "metadata": {
    "id": "uTr7vzZrMYzv"
   },
   "outputs": [],
   "source": [
    "serving = ff.ServingClient(local=True)\n",
    "dataset = serving.training_set(\"fraud_training\", \"default\")\n",
    "training_dataset = dataset.repeat(1).shuffle(1000).batch(12)"
   ]
  },
  {
   "cell_type": "code",
   "execution_count": 14,
   "metadata": {
    "id": "tJjc2pYpNJhs"
   },
   "outputs": [
    {
     "data": {
      "text/plain": [
       "array([False, False])"
      ]
     },
     "execution_count": 14,
     "metadata": {},
     "output_type": "execute_result"
    }
   ],
   "source": [
    "from sklearn.linear_model import SGDClassifier\n",
    "\n",
    "classifier = SGDClassifier(loss='log_loss')\n",
    "for batch in training_dataset:\n",
    "  classifier.partial_fit(batch.features(), batch.label(), [True, False])\n",
    "\n",
    "# Get one batch of training data as sample test data\n",
    "# Make a test prediction\n",
    "classifier.predict(batch.features())\n"
   ]
  },
  {
   "cell_type": "code",
   "execution_count": null,
   "metadata": {},
   "outputs": [],
   "source": []
  }
 ],
 "metadata": {
  "colab": {
   "collapsed_sections": [],
   "provenance": []
  },
  "kernelspec": {
   "display_name": "local-venv",
   "language": "python",
   "name": "local-venv"
  },
  "language_info": {
   "codemirror_mode": {
    "name": "ipython",
    "version": 3
   },
   "file_extension": ".py",
   "mimetype": "text/x-python",
   "name": "python",
   "nbconvert_exporter": "python",
   "pygments_lexer": "ipython3",
   "version": "3.8.13"
  }
 },
 "nbformat": 4,
 "nbformat_minor": 1
}
